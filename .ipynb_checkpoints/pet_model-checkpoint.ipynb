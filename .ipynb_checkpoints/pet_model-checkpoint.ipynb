{
 "cells": [
  {
   "cell_type": "code",
   "execution_count": 36,
   "id": "922b71b9",
   "metadata": {},
   "outputs": [],
   "source": [
    "import pandas as pd\n",
    "import numpy as np\n",
    "import matplotlib.pyplot as plt\n",
    "import seaborn as sns\n",
    "from sklearn.model_selection import train_test_split\n",
    "from sklearn.preprocessing import StandardScaler\n",
    "from sklearn.metrics import classification_report,confusion_matrix,ConfusionMatrixDisplay\n",
    "from sklearn.metrics import cohen_kappa_score"
   ]
  },
  {
   "cell_type": "markdown",
   "id": "acc99c0e",
   "metadata": {},
   "source": [
    "We already know what features to select from the EDA performed."
   ]
  },
  {
   "cell_type": "code",
   "execution_count": 2,
   "id": "62a9afd8",
   "metadata": {},
   "outputs": [],
   "source": [
    "df = pd.read_csv('dataset/cleaned_pets.csv')"
   ]
  },
  {
   "cell_type": "code",
   "execution_count": 3,
   "id": "b9f8da16",
   "metadata": {},
   "outputs": [],
   "source": [
    "df = df.filter(['AdoptionSpeed','Age','Breed1','Gender','MaturitySize','Health','Quantity','Description'\n",
    "                ,'Vaccinated','Sterilized','FurLength','Type','Color1','Color2','Color3'])"
   ]
  },
  {
   "cell_type": "code",
   "execution_count": 4,
   "id": "b7c2dbe7",
   "metadata": {},
   "outputs": [
    {
     "data": {
      "text/plain": [
       "(14947, 15)"
      ]
     },
     "execution_count": 4,
     "metadata": {},
     "output_type": "execute_result"
    }
   ],
   "source": [
    "df.shape"
   ]
  },
  {
   "cell_type": "markdown",
   "id": "84ce422d",
   "metadata": {},
   "source": [
    "## Evaluation Protocol and Measurements of Success\n",
    "\n",
    "For this dataset, we will need the precision for each of the 5 adoption speed classes, and the overall accuracy of the model.\n",
    "\n",
    "The dataset is slightly below 15k samples. A small dataset, for this, K-fold cross validation"
   ]
  },
  {
   "cell_type": "markdown",
   "id": "a2108be5",
   "metadata": {},
   "source": [
    "## Feature Engineering\n",
    "\n",
    "Creating a new feature based of the 3 colors, into a singular multi-color combination label. If animals has more than 1 color coat, it has multi color, else 0.\n",
    "\n",
    "Same thing for Vaccinated and Sterilized. New feature immunized.\n",
    "\n",
    "Another feautre to create is description length, do short description influence adoption speed.\n",
    "\n",
    "We also know from the EDA that majority breeds are mixed or domestic, with many pure breeds having a very low counts. Group them into 'Others'."
   ]
  },
  {
   "cell_type": "markdown",
   "id": "333567a1",
   "metadata": {},
   "source": [
    " Log Transformation of Age, Quantity and WordCount to normalize the distribution has no effect on random forest or GB, but reduces others performance."
   ]
  },
  {
   "cell_type": "code",
   "execution_count": 5,
   "id": "93af108d",
   "metadata": {},
   "outputs": [],
   "source": [
    "df['MultiColor'] = np.where((df['Color2'] == 0) & (df['Color3'] == 0),0,1)"
   ]
  },
  {
   "cell_type": "code",
   "execution_count": 6,
   "id": "56d133f4",
   "metadata": {},
   "outputs": [],
   "source": [
    "df['Immunized'] = np.where((df['Vaccinated'] == 1) & (df['Sterilized'] == 1),1,0)"
   ]
  },
  {
   "cell_type": "code",
   "execution_count": 7,
   "id": "df273c2c",
   "metadata": {},
   "outputs": [],
   "source": [
    "df = df.drop(columns={'Color1','Color2','Color3'})"
   ]
  },
  {
   "cell_type": "code",
   "execution_count": 8,
   "id": "76b87efc",
   "metadata": {},
   "outputs": [],
   "source": [
    "df['WordCount'] = df['Description'].apply(lambda x: len(x.split()))"
   ]
  },
  {
   "cell_type": "code",
   "execution_count": 9,
   "id": "c2051f1f",
   "metadata": {},
   "outputs": [],
   "source": [
    "def breed_transform(row):\n",
    "    if row['Breed1'] == 266:\n",
    "        return 'Domestic Short Hair'\n",
    "    elif row['Breed1'] == 264:\n",
    "        return 'Domestic Long Hair'\n",
    "    elif row['Breed1'] == 265:\n",
    "        return 'Domestic Medium Hair'\n",
    "    elif row['Breed1'] == 307:\n",
    "        return 'Mixed Breed'\n",
    "    else:\n",
    "        return 'Others'"
   ]
  },
  {
   "cell_type": "code",
   "execution_count": 10,
   "id": "963ef045",
   "metadata": {},
   "outputs": [],
   "source": [
    "df['Breed1'] = df.apply(breed_transform, axis=1)"
   ]
  },
  {
   "cell_type": "code",
   "execution_count": 11,
   "id": "e52ae34a",
   "metadata": {},
   "outputs": [
    {
     "data": {
      "text/plain": [
       "(14947, 15)"
      ]
     },
     "execution_count": 11,
     "metadata": {},
     "output_type": "execute_result"
    }
   ],
   "source": [
    "df.shape"
   ]
  },
  {
   "cell_type": "code",
   "execution_count": 12,
   "id": "d2723170",
   "metadata": {
    "scrolled": true
   },
   "outputs": [
    {
     "data": {
      "text/html": [
       "<div>\n",
       "<style scoped>\n",
       "    .dataframe tbody tr th:only-of-type {\n",
       "        vertical-align: middle;\n",
       "    }\n",
       "\n",
       "    .dataframe tbody tr th {\n",
       "        vertical-align: top;\n",
       "    }\n",
       "\n",
       "    .dataframe thead th {\n",
       "        text-align: right;\n",
       "    }\n",
       "</style>\n",
       "<table border=\"1\" class=\"dataframe\">\n",
       "  <thead>\n",
       "    <tr style=\"text-align: right;\">\n",
       "      <th></th>\n",
       "      <th>AdoptionSpeed</th>\n",
       "      <th>Age</th>\n",
       "      <th>Breed1</th>\n",
       "      <th>Gender</th>\n",
       "      <th>MaturitySize</th>\n",
       "      <th>Health</th>\n",
       "      <th>Quantity</th>\n",
       "      <th>Description</th>\n",
       "      <th>Vaccinated</th>\n",
       "      <th>Sterilized</th>\n",
       "      <th>FurLength</th>\n",
       "      <th>Type</th>\n",
       "      <th>MultiColor</th>\n",
       "      <th>Immunized</th>\n",
       "      <th>WordCount</th>\n",
       "    </tr>\n",
       "  </thead>\n",
       "  <tbody>\n",
       "    <tr>\n",
       "      <th>0</th>\n",
       "      <td>2</td>\n",
       "      <td>3</td>\n",
       "      <td>Others</td>\n",
       "      <td>1</td>\n",
       "      <td>1</td>\n",
       "      <td>1</td>\n",
       "      <td>1</td>\n",
       "      <td>nibble month old ball cuteness energetic playf...</td>\n",
       "      <td>2</td>\n",
       "      <td>2</td>\n",
       "      <td>1</td>\n",
       "      <td>2</td>\n",
       "      <td>1</td>\n",
       "      <td>0</td>\n",
       "      <td>34</td>\n",
       "    </tr>\n",
       "  </tbody>\n",
       "</table>\n",
       "</div>"
      ],
      "text/plain": [
       "   AdoptionSpeed  Age  Breed1  Gender  MaturitySize  Health  Quantity  \\\n",
       "0              2    3  Others       1             1       1         1   \n",
       "\n",
       "                                         Description  Vaccinated  Sterilized  \\\n",
       "0  nibble month old ball cuteness energetic playf...           2           2   \n",
       "\n",
       "   FurLength  Type  MultiColor  Immunized  WordCount  \n",
       "0          1     2           1          0         34  "
      ]
     },
     "execution_count": 12,
     "metadata": {},
     "output_type": "execute_result"
    }
   ],
   "source": [
    "df.head(1)"
   ]
  },
  {
   "cell_type": "code",
   "execution_count": 13,
   "id": "200089da",
   "metadata": {
    "scrolled": true
   },
   "outputs": [
    {
     "data": {
      "text/html": [
       "<div>\n",
       "<style scoped>\n",
       "    .dataframe tbody tr th:only-of-type {\n",
       "        vertical-align: middle;\n",
       "    }\n",
       "\n",
       "    .dataframe tbody tr th {\n",
       "        vertical-align: top;\n",
       "    }\n",
       "\n",
       "    .dataframe thead th {\n",
       "        text-align: right;\n",
       "    }\n",
       "</style>\n",
       "<table border=\"1\" class=\"dataframe\">\n",
       "  <thead>\n",
       "    <tr style=\"text-align: right;\">\n",
       "      <th></th>\n",
       "      <th>AdoptionSpeed</th>\n",
       "      <th>Age</th>\n",
       "      <th>Gender</th>\n",
       "      <th>MaturitySize</th>\n",
       "      <th>Health</th>\n",
       "      <th>Quantity</th>\n",
       "      <th>Vaccinated</th>\n",
       "      <th>Sterilized</th>\n",
       "      <th>FurLength</th>\n",
       "      <th>Type</th>\n",
       "      <th>MultiColor</th>\n",
       "      <th>Immunized</th>\n",
       "      <th>WordCount</th>\n",
       "    </tr>\n",
       "  </thead>\n",
       "  <tbody>\n",
       "    <tr>\n",
       "      <th>count</th>\n",
       "      <td>14947.000000</td>\n",
       "      <td>14947.000000</td>\n",
       "      <td>14947.000000</td>\n",
       "      <td>14947.000000</td>\n",
       "      <td>14947.000000</td>\n",
       "      <td>14947.000000</td>\n",
       "      <td>14947.000000</td>\n",
       "      <td>14947.000000</td>\n",
       "      <td>14947.000000</td>\n",
       "      <td>14947.000000</td>\n",
       "      <td>14947.000000</td>\n",
       "      <td>14947.000000</td>\n",
       "      <td>14947.000000</td>\n",
       "    </tr>\n",
       "    <tr>\n",
       "      <th>mean</th>\n",
       "      <td>2.516492</td>\n",
       "      <td>10.451663</td>\n",
       "      <td>1.776209</td>\n",
       "      <td>1.862247</td>\n",
       "      <td>1.036596</td>\n",
       "      <td>1.575835</td>\n",
       "      <td>1.731117</td>\n",
       "      <td>1.914030</td>\n",
       "      <td>1.467719</td>\n",
       "      <td>1.457550</td>\n",
       "      <td>0.701813</td>\n",
       "      <td>0.167525</td>\n",
       "      <td>40.726969</td>\n",
       "    </tr>\n",
       "    <tr>\n",
       "      <th>std</th>\n",
       "      <td>1.177328</td>\n",
       "      <td>18.158534</td>\n",
       "      <td>0.681444</td>\n",
       "      <td>0.547329</td>\n",
       "      <td>0.199521</td>\n",
       "      <td>1.473228</td>\n",
       "      <td>0.667854</td>\n",
       "      <td>0.566147</td>\n",
       "      <td>0.599030</td>\n",
       "      <td>0.498211</td>\n",
       "      <td>0.457477</td>\n",
       "      <td>0.373457</td>\n",
       "      <td>46.574389</td>\n",
       "    </tr>\n",
       "    <tr>\n",
       "      <th>min</th>\n",
       "      <td>0.000000</td>\n",
       "      <td>0.000000</td>\n",
       "      <td>1.000000</td>\n",
       "      <td>1.000000</td>\n",
       "      <td>1.000000</td>\n",
       "      <td>1.000000</td>\n",
       "      <td>1.000000</td>\n",
       "      <td>1.000000</td>\n",
       "      <td>1.000000</td>\n",
       "      <td>1.000000</td>\n",
       "      <td>0.000000</td>\n",
       "      <td>0.000000</td>\n",
       "      <td>0.000000</td>\n",
       "    </tr>\n",
       "    <tr>\n",
       "      <th>25%</th>\n",
       "      <td>2.000000</td>\n",
       "      <td>2.000000</td>\n",
       "      <td>1.000000</td>\n",
       "      <td>2.000000</td>\n",
       "      <td>1.000000</td>\n",
       "      <td>1.000000</td>\n",
       "      <td>1.000000</td>\n",
       "      <td>2.000000</td>\n",
       "      <td>1.000000</td>\n",
       "      <td>1.000000</td>\n",
       "      <td>0.000000</td>\n",
       "      <td>0.000000</td>\n",
       "      <td>14.000000</td>\n",
       "    </tr>\n",
       "    <tr>\n",
       "      <th>50%</th>\n",
       "      <td>2.000000</td>\n",
       "      <td>3.000000</td>\n",
       "      <td>2.000000</td>\n",
       "      <td>2.000000</td>\n",
       "      <td>1.000000</td>\n",
       "      <td>1.000000</td>\n",
       "      <td>2.000000</td>\n",
       "      <td>2.000000</td>\n",
       "      <td>1.000000</td>\n",
       "      <td>1.000000</td>\n",
       "      <td>1.000000</td>\n",
       "      <td>0.000000</td>\n",
       "      <td>28.000000</td>\n",
       "    </tr>\n",
       "    <tr>\n",
       "      <th>75%</th>\n",
       "      <td>4.000000</td>\n",
       "      <td>11.500000</td>\n",
       "      <td>2.000000</td>\n",
       "      <td>2.000000</td>\n",
       "      <td>1.000000</td>\n",
       "      <td>1.000000</td>\n",
       "      <td>2.000000</td>\n",
       "      <td>2.000000</td>\n",
       "      <td>2.000000</td>\n",
       "      <td>2.000000</td>\n",
       "      <td>1.000000</td>\n",
       "      <td>0.000000</td>\n",
       "      <td>51.000000</td>\n",
       "    </tr>\n",
       "    <tr>\n",
       "      <th>max</th>\n",
       "      <td>4.000000</td>\n",
       "      <td>255.000000</td>\n",
       "      <td>3.000000</td>\n",
       "      <td>4.000000</td>\n",
       "      <td>3.000000</td>\n",
       "      <td>20.000000</td>\n",
       "      <td>3.000000</td>\n",
       "      <td>3.000000</td>\n",
       "      <td>3.000000</td>\n",
       "      <td>2.000000</td>\n",
       "      <td>1.000000</td>\n",
       "      <td>1.000000</td>\n",
       "      <td>1207.000000</td>\n",
       "    </tr>\n",
       "  </tbody>\n",
       "</table>\n",
       "</div>"
      ],
      "text/plain": [
       "       AdoptionSpeed           Age        Gender  MaturitySize        Health  \\\n",
       "count   14947.000000  14947.000000  14947.000000  14947.000000  14947.000000   \n",
       "mean        2.516492     10.451663      1.776209      1.862247      1.036596   \n",
       "std         1.177328     18.158534      0.681444      0.547329      0.199521   \n",
       "min         0.000000      0.000000      1.000000      1.000000      1.000000   \n",
       "25%         2.000000      2.000000      1.000000      2.000000      1.000000   \n",
       "50%         2.000000      3.000000      2.000000      2.000000      1.000000   \n",
       "75%         4.000000     11.500000      2.000000      2.000000      1.000000   \n",
       "max         4.000000    255.000000      3.000000      4.000000      3.000000   \n",
       "\n",
       "           Quantity    Vaccinated    Sterilized     FurLength          Type  \\\n",
       "count  14947.000000  14947.000000  14947.000000  14947.000000  14947.000000   \n",
       "mean       1.575835      1.731117      1.914030      1.467719      1.457550   \n",
       "std        1.473228      0.667854      0.566147      0.599030      0.498211   \n",
       "min        1.000000      1.000000      1.000000      1.000000      1.000000   \n",
       "25%        1.000000      1.000000      2.000000      1.000000      1.000000   \n",
       "50%        1.000000      2.000000      2.000000      1.000000      1.000000   \n",
       "75%        1.000000      2.000000      2.000000      2.000000      2.000000   \n",
       "max       20.000000      3.000000      3.000000      3.000000      2.000000   \n",
       "\n",
       "         MultiColor     Immunized     WordCount  \n",
       "count  14947.000000  14947.000000  14947.000000  \n",
       "mean       0.701813      0.167525     40.726969  \n",
       "std        0.457477      0.373457     46.574389  \n",
       "min        0.000000      0.000000      0.000000  \n",
       "25%        0.000000      0.000000     14.000000  \n",
       "50%        1.000000      0.000000     28.000000  \n",
       "75%        1.000000      0.000000     51.000000  \n",
       "max        1.000000      1.000000   1207.000000  "
      ]
     },
     "execution_count": 13,
     "metadata": {},
     "output_type": "execute_result"
    }
   ],
   "source": [
    "df.describe()"
   ]
  },
  {
   "cell_type": "code",
   "execution_count": 14,
   "id": "5a48f938",
   "metadata": {},
   "outputs": [],
   "source": [
    "def plotDistribution(df):\n",
    "    fig, ax = plt.subplots(3,1,figsize=(5, 15))\n",
    "    \n",
    "    ax[0].bar(df['Age'].unique(),df['Age'].value_counts())\n",
    "    ax[0].set_title('Age Distribution')\n",
    "    \n",
    "    ax[1].bar(df['Quantity'].unique(),df['Quantity'].value_counts())\n",
    "    ax[1].set_title('Quantity Distribution')\n",
    "    \n",
    "    ax[2].bar(df['WordCount'].unique(),df['WordCount'].value_counts())\n",
    "    ax[2].set_title('WordCount Distribution')\n",
    "    \n",
    "    \n",
    "    plt.show()"
   ]
  },
  {
   "cell_type": "markdown",
   "id": "2d858d99",
   "metadata": {},
   "source": [
    "## Data Preparation"
   ]
  },
  {
   "cell_type": "markdown",
   "id": "39cec07c",
   "metadata": {},
   "source": [
    "Split into train and test."
   ]
  },
  {
   "cell_type": "code",
   "execution_count": 15,
   "id": "48553729",
   "metadata": {},
   "outputs": [],
   "source": [
    "#features and labels\n",
    "\n",
    "X = df.iloc[:,1:]\n",
    "\n",
    "y = df['AdoptionSpeed']"
   ]
  },
  {
   "cell_type": "code",
   "execution_count": 16,
   "id": "d01c4cd8",
   "metadata": {},
   "outputs": [],
   "source": [
    "X_train,X_test,y_train,y_test = train_test_split(X,y,test_size=0.3)"
   ]
  },
  {
   "cell_type": "markdown",
   "id": "e4ef99f4",
   "metadata": {},
   "source": [
    "##  Age and quantity outliers"
   ]
  },
  {
   "cell_type": "code",
   "execution_count": 17,
   "id": "19cb1067",
   "metadata": {},
   "outputs": [
    {
     "data": {
      "image/png": "[encoded data removed]",
      "text/plain": [
       "<Figure size 2000x300 with 1 Axes>"
      ]
     },
     "metadata": {},
     "output_type": "display_data"
    }
   ],
   "source": [
    "plt.figure(figsize=(20,3))\n",
    "sns.boxplot(df['Age'],orient='h')\n",
    "plt.title('Age Box Plot')\n",
    "plt.show()"
   ]
  },
  {
   "cell_type": "code",
   "execution_count": 18,
   "id": "997caa9c",
   "metadata": {
    "scrolled": true
   },
   "outputs": [
    {
     "data": {
      "image/png": "[encoded data removed]",
      "text/plain": [
       "<Figure size 1500x300 with 1 Axes>"
      ]
     },
     "metadata": {},
     "output_type": "display_data"
    }
   ],
   "source": [
    "plt.figure(figsize=(15,3))\n",
    "sns.boxplot(df['Quantity'],orient='h')\n",
    "plt.title('Quantity Box Plot')\n",
    "plt.show()"
   ]
  },
  {
   "cell_type": "code",
   "execution_count": 19,
   "id": "c3ae49c5",
   "metadata": {},
   "outputs": [],
   "source": [
    "def removeOutliers(col,threshold,x,y):\n",
    "    outlierIndexes = x.index[x[col]>threshold].tolist()\n",
    "    x = x.drop(outlierIndexes)\n",
    "    y = y.drop(outlierIndexes)\n",
    "    \n",
    "    plt.figure(figsize=(20,3))\n",
    "    sns.boxplot(x[col],orient='h')\n",
    "    plt.title(f'{col} box plot outliers dropped')\n",
    "    plt.show()\n",
    "    \n",
    "    return x,y"
   ]
  },
  {
   "cell_type": "markdown",
   "id": "9a638ad0",
   "metadata": {},
   "source": [
    "# Removal of outliers actually decreased the performance by 1-3%."
   ]
  },
  {
   "cell_type": "code",
   "execution_count": 20,
   "id": "bf40c843",
   "metadata": {},
   "outputs": [
    {
     "name": "stdout",
     "output_type": "stream",
     "text": [
      "(10462, 14)\n",
      "(10462,)\n"
     ]
    }
   ],
   "source": [
    "print(X_train.shape)\n",
    "print(y_train.shape)"
   ]
  },
  {
   "cell_type": "markdown",
   "id": "fd56a96d",
   "metadata": {},
   "source": [
    "Now to plot the counts of each of the multi-class labels."
   ]
  },
  {
   "cell_type": "code",
   "execution_count": 21,
   "id": "702fb2a6",
   "metadata": {},
   "outputs": [],
   "source": [
    "y_counts = y_train.value_counts()"
   ]
  },
  {
   "cell_type": "code",
   "execution_count": 22,
   "id": "5d692077",
   "metadata": {
    "scrolled": true
   },
   "outputs": [
    {
     "data": {
      "text/plain": [
       "AdoptionSpeed\n",
       "4    2914\n",
       "2    2827\n",
       "3    2296\n",
       "1    2139\n",
       "0     286\n",
       "Name: count, dtype: int64"
      ]
     },
     "execution_count": 22,
     "metadata": {},
     "output_type": "execute_result"
    }
   ],
   "source": [
    "y_counts"
   ]
  },
  {
   "cell_type": "code",
   "execution_count": 23,
   "id": "8d42f178",
   "metadata": {},
   "outputs": [],
   "source": [
    "adoptionSpeed_counts_X = y_counts.index.values.tolist()\n",
    "adoptionSpeed_counts_Y = y_counts.to_list()"
   ]
  },
  {
   "cell_type": "code",
   "execution_count": 24,
   "id": "2f7fb89c",
   "metadata": {},
   "outputs": [
    {
     "data": {
      "image/png": "[encoded data removed]",
      "text/plain": [
       "<Figure size 640x480 with 1 Axes>"
      ]
     },
     "metadata": {},
     "output_type": "display_data"
    }
   ],
   "source": [
    "fig, ax = plt.subplots()\n",
    "\n",
    "ax.bar(adoptionSpeed_counts_X, adoptionSpeed_counts_Y)\n",
    "ax.set_title('AdoptionSpeed Class Sample Count')\n",
    "\n",
    "plt.show()"
   ]
  },
  {
   "cell_type": "markdown",
   "id": "1a0862bc",
   "metadata": {},
   "source": [
    "The 0 class has a significantly lower sample count compared to the rest. Since the dataset is a reflection of real pet listings and adoption rates, I will not artifially balance the classes through data augmentation."
   ]
  },
  {
   "cell_type": "markdown",
   "id": "f865b556",
   "metadata": {},
   "source": [
    "Standardize the age range, photo amount and quantity, then one hot encode all the other categorical features."
   ]
  },
  {
   "cell_type": "code",
   "execution_count": 31,
   "id": "019f2a4a",
   "metadata": {},
   "outputs": [],
   "source": [
    "#X_train['WordCount'] = np.log1p(X_train['WordCount'])"
   ]
  },
  {
   "cell_type": "code",
   "execution_count": 32,
   "id": "46549ff5",
   "metadata": {},
   "outputs": [],
   "source": [
    "#X_train['Age'] = np.log1p(X_train['Age'])"
   ]
  },
  {
   "cell_type": "code",
   "execution_count": 33,
   "id": "172654b1",
   "metadata": {},
   "outputs": [],
   "source": [
    "#X_train['Quantity'] = np.log1p(X_train['Quantity'])"
   ]
  },
  {
   "cell_type": "code",
   "execution_count": 34,
   "id": "630daf56",
   "metadata": {},
   "outputs": [],
   "source": [
    "#plotDistribution(X_train)"
   ]
  },
  {
   "cell_type": "code",
   "execution_count": 25,
   "id": "023c9e81",
   "metadata": {},
   "outputs": [],
   "source": [
    "from sklearn.preprocessing import OneHotEncoder\n",
    "from sklearn.feature_extraction.text import CountVectorizer\n",
    "from sklearn.preprocessing import StandardScaler\n",
    "from sklearn.preprocessing import MinMaxScaler\n",
    "from sklearn.compose import ColumnTransformer"
   ]
  },
  {
   "cell_type": "code",
   "execution_count": 26,
   "id": "8c93d582",
   "metadata": {},
   "outputs": [],
   "source": [
    "transformer = ColumnTransformer(transformers=[\n",
    "    ('a1', MinMaxScaler(), ['Age', 'Quantity']),\n",
    "    ('a2', OneHotEncoder(handle_unknown='ignore'), ['Gender','MaturitySize','Health','Vaccinated'\n",
    "                                                   ,'Sterilized','FurLength','MultiColor','Immunized'\n",
    "                                                   ,'Type','Breed1']),\n",
    "    ('a3', CountVectorizer(), 'Description'),\n",
    "    ('a4',StandardScaler(),['WordCount'])\n",
    "], remainder='passthrough')"
   ]
  },
  {
   "cell_type": "code",
   "execution_count": 27,
   "id": "3425023f",
   "metadata": {},
   "outputs": [],
   "source": [
    "X_train = transformer.fit_transform(X_train)\n",
    "X_test= transformer.transform(X_test)"
   ]
  },
  {
   "cell_type": "markdown",
   "id": "7a9827b8",
   "metadata": {},
   "source": [
    "## Baseline Model\n",
    "\n",
    "Importing and loading our classification models, then evaluating and establishing a baseline model to beat."
   ]
  },
  {
   "cell_type": "code",
   "execution_count": 28,
   "id": "20c51c49",
   "metadata": {},
   "outputs": [],
   "source": [
    "from sklearn.linear_model import LogisticRegression\n",
    "from sklearn.svm import SVC\n",
    "from sklearn.neighbors import KNeighborsClassifier\n",
    "from sklearn.tree import DecisionTreeClassifier\n",
    "from sklearn.ensemble import RandomForestClassifier\n",
    "from sklearn.ensemble import GradientBoostingClassifier"
   ]
  },
  {
   "cell_type": "code",
   "execution_count": 29,
   "id": "1d0ecbaa",
   "metadata": {},
   "outputs": [],
   "source": [
    "def getBaseModel(x,y,x2,y2):\n",
    "    models_list = [\n",
    "    SVC(decision_function_shape='ovo'),\n",
    "    LogisticRegression(multi_class='ovr',max_iter=1000),\n",
    "    KNeighborsClassifier(n_neighbors=5),\n",
    "    DecisionTreeClassifier(),\n",
    "    RandomForestClassifier(),\n",
    "    GradientBoostingClassifier()]\n",
    "    \n",
    "    for model in models_list:\n",
    "        model.fit(x,y)\n",
    "        results = model.predict(x2)\n",
    "        print(f'Results for {model}')\n",
    "        print(classification_report(y2,results))"
   ]
  },
  {
   "cell_type": "code",
   "execution_count": 30,
   "id": "a0d7fbb2",
   "metadata": {
    "scrolled": false
   },
   "outputs": [
    {
     "name": "stdout",
     "output_type": "stream",
     "text": [
      "Results for SVC(decision_function_shape='ovo')\n",
      "              precision    recall  f1-score   support\n",
      "\n",
      "           0       1.00      0.01      0.02       123\n",
      "           1       0.40      0.28      0.33       942\n",
      "           2       0.38      0.68      0.49      1195\n",
      "           3       0.48      0.25      0.33       955\n",
      "           4       0.96      0.93      0.94      1270\n",
      "\n",
      "    accuracy                           0.55      4485\n",
      "   macro avg       0.64      0.43      0.42      4485\n",
      "weighted avg       0.59      0.55      0.54      4485\n",
      "\n",
      "Results for LogisticRegression(max_iter=1000, multi_class='ovr')\n",
      "              precision    recall  f1-score   support\n",
      "\n",
      "           0       0.38      0.12      0.19       123\n",
      "           1       0.38      0.34      0.35       942\n",
      "           2       0.40      0.47      0.43      1195\n",
      "           3       0.38      0.38      0.38       955\n",
      "           4       0.98      0.96      0.97      1270\n",
      "\n",
      "    accuracy                           0.55      4485\n",
      "   macro avg       0.50      0.45      0.46      4485\n",
      "weighted avg       0.55      0.55      0.55      4485\n",
      "\n",
      "Results for KNeighborsClassifier()\n",
      "              precision    recall  f1-score   support\n",
      "\n",
      "           0       0.17      0.11      0.14       123\n",
      "           1       0.32      0.42      0.36       942\n",
      "           2       0.37      0.40      0.38      1195\n",
      "           3       0.35      0.25      0.29       955\n",
      "           4       0.79      0.77      0.78      1270\n",
      "\n",
      "    accuracy                           0.47      4485\n",
      "   macro avg       0.40      0.39      0.39      4485\n",
      "weighted avg       0.47      0.47      0.47      4485\n",
      "\n",
      "Results for DecisionTreeClassifier()\n",
      "              precision    recall  f1-score   support\n",
      "\n",
      "           0       0.14      0.10      0.12       123\n",
      "           1       0.36      0.36      0.36       942\n",
      "           2       0.39      0.41      0.40      1195\n",
      "           3       0.37      0.36      0.37       955\n",
      "           4       0.95      0.93      0.94      1270\n",
      "\n",
      "    accuracy                           0.53      4485\n",
      "   macro avg       0.44      0.43      0.44      4485\n",
      "weighted avg       0.53      0.53      0.53      4485\n",
      "\n",
      "Results for RandomForestClassifier()\n",
      "              precision    recall  f1-score   support\n",
      "\n",
      "           0       0.92      0.09      0.16       123\n",
      "           1       0.43      0.35      0.39       942\n",
      "           2       0.41      0.61      0.49      1195\n",
      "           3       0.47      0.32      0.38       955\n",
      "           4       0.96      0.96      0.96      1270\n",
      "\n",
      "    accuracy                           0.58      4485\n",
      "   macro avg       0.64      0.47      0.48      4485\n",
      "weighted avg       0.60      0.58      0.57      4485\n",
      "\n",
      "Results for GradientBoostingClassifier()\n",
      "              precision    recall  f1-score   support\n",
      "\n",
      "           0       0.39      0.10      0.16       123\n",
      "           1       0.38      0.26      0.31       942\n",
      "           2       0.38      0.69      0.49      1195\n",
      "           3       0.45      0.23      0.30       955\n",
      "           4       0.99      0.91      0.95      1270\n",
      "\n",
      "    accuracy                           0.55      4485\n",
      "   macro avg       0.52      0.44      0.44      4485\n",
      "weighted avg       0.57      0.55      0.53      4485\n",
      "\n"
     ]
    }
   ],
   "source": [
    "getBaseModel(X_train,y_train,X_test,y_test)"
   ]
  },
  {
   "cell_type": "code",
   "execution_count": 24,
   "id": "14882f67",
   "metadata": {},
   "outputs": [],
   "source": [
    "from sklearn.model_selection import learning_curve"
   ]
  },
  {
   "cell_type": "code",
   "execution_count": 25,
   "id": "86891739",
   "metadata": {},
   "outputs": [
    {
     "name": "stdout",
     "output_type": "stream",
     "text": [
      "[learning_curve] Training set sizes: [  95  288  482  675  868 1061 1255 1448 1641 1834 2028 2221 2414 2607\n",
      " 2801 2994 3187 3380 3574 3767 3960 4153 4347 4540 4733 4926 5120 5313\n",
      " 5506 5699 5893 6086 6279 6472 6666 6859 7052 7245 7439 7632 7825 8018\n",
      " 8212 8405 8598 8791 8985 9178 9371 9565]\n"
     ]
    },
    {
     "name": "stderr",
     "output_type": "stream",
     "text": [
      "[Parallel(n_jobs=-1)]: Using backend LokyBackend with 12 concurrent workers.\n",
      "[Parallel(n_jobs=-1)]: Done 250 out of 250 | elapsed: 13.1min finished\n"
     ]
    }
   ],
   "source": [
    "train_sizes_abs,train_scores,test_scores = learning_curve(RandomForestClassifier(),\n",
    "                                          X_train,\n",
    "                                          y_train,\n",
    "                                          cv=5,\n",
    "                                          scoring='accuracy',\n",
    "                                          n_jobs=-1,\n",
    "                                          train_sizes=np.linspace(0.01,1,50),\n",
    "                                          verbose=1)"
   ]
  },
  {
   "cell_type": "code",
   "execution_count": 26,
   "id": "6e5378a2",
   "metadata": {},
   "outputs": [],
   "source": [
    "train_mean = np.mean(train_scores,axis=1)\n",
    "test_mean = np.mean(test_scores,axis=1)"
   ]
  },
  {
   "cell_type": "code",
   "execution_count": 27,
   "id": "a900b6ed",
   "metadata": {
    "scrolled": false
   },
   "outputs": [
    {
     "data": {
      "image/png": "[encoded data removed]",
      "text/plain": [
       "<Figure size 640x480 with 1 Axes>"
      ]
     },
     "metadata": {},
     "output_type": "display_data"
    }
   ],
   "source": [
    "plt.plot(train_sizes_abs,train_mean, label='Training Score')\n",
    "plt.plot(train_sizes_abs,test_mean, label='Validation Score')\n",
    "plt.legend()\n",
    "plt.title('Learning Curve')\n",
    "plt.show()"
   ]
  },
  {
   "cell_type": "code",
   "execution_count": 35,
   "id": "22e8b427",
   "metadata": {},
   "outputs": [],
   "source": [
    "baseline_clf = RandomForestClassifier()\n",
    "baseline_clf.fit(X_train,y_train)\n",
    "baseline_results = baseline_clf.predict(X_test)"
   ]
  },
  {
   "cell_type": "code",
   "execution_count": 38,
   "id": "cedac7a2",
   "metadata": {},
   "outputs": [
    {
     "name": "stdout",
     "output_type": "stream",
     "text": [
      "              precision    recall  f1-score   support\n",
      "\n",
      "           0       0.92      0.09      0.16       123\n",
      "           1       0.43      0.34      0.38       942\n",
      "           2       0.40      0.60      0.48      1195\n",
      "           3       0.46      0.33      0.38       955\n",
      "           4       0.97      0.96      0.97      1270\n",
      "\n",
      "    accuracy                           0.58      4485\n",
      "   macro avg       0.64      0.46      0.48      4485\n",
      "weighted avg       0.60      0.58      0.57      4485\n",
      "\n"
     ]
    }
   ],
   "source": [
    "print(classification_report(y_test,baseline_results))"
   ]
  },
  {
   "cell_type": "code",
   "execution_count": 39,
   "id": "dd637332",
   "metadata": {},
   "outputs": [
    {
     "data": {
      "image/png": "[encoded data removed]",
      "text/plain": [
       "<Figure size 640x480 with 2 Axes>"
      ]
     },
     "metadata": {},
     "output_type": "display_data"
    }
   ],
   "source": [
    "cm = confusion_matrix(y_test, baseline_results, labels=baseline_clf.classes_)\n",
    "\n",
    "disp = ConfusionMatrixDisplay(confusion_matrix=cm, display_labels=baseline_clf.classes_)\n",
    "\n",
    "disp.plot()\n",
    "plt.show()"
   ]
  },
  {
   "cell_type": "markdown",
   "id": "52b03e43",
   "metadata": {},
   "source": [
    "RandomForest has the best score among the chosen classification models, after preprocessing the data via standardizing the age, photo amounts and quantity of pets, then one hot encoding the categorical features. This shall be our baseline model.\n",
    "\n",
    "But the learning curve shows that obtaining more data will not help improve the performance of the model, as the validation score starts to stagnate around 5000 samples.\n",
    "\n",
    "This means we need to focus more on the features and the encoding process, to help the model understand the current data better.\n",
    "\n",
    "The model is also really struggling to differentiate between adoption speeds of 1,2 and 3, with the high number of FPs and FN's for the 3 classes."
   ]
  },
  {
   "cell_type": "markdown",
   "id": "f84d719a",
   "metadata": {},
   "source": [
    "## Hyper-parameter Tuning"
   ]
  },
  {
   "cell_type": "markdown",
   "id": "99437a20",
   "metadata": {},
   "source": [
    "Use random search grid as random forest has many different parameters covering a large range, resulting if high number of combinations."
   ]
  },
  {
   "cell_type": "markdown",
   "id": "adafd48f",
   "metadata": {},
   "source": [
    "from sklearn.model_selection import RandomizedSearchCV"
   ]
  },
  {
   "cell_type": "markdown",
   "id": "50f739da",
   "metadata": {},
   "source": [
    "n_estimators = [int(x) for x in np.linspace(start = 100, stop = 1000, num = 10)]\n",
    "max_features = ['log2', 'sqrt']\n",
    "max_depth = [int(x) for x in np.linspace(1, 100, num = 10)]\n",
    "max_depth.append(None)\n",
    "min_samples_split = [2, 5, 7, 10]\n",
    "min_samples_leaf = [1, 2, 4, 6]\n",
    "bootstrap = [True, False]"
   ]
  },
  {
   "cell_type": "markdown",
   "id": "0f7a0755",
   "metadata": {},
   "source": [
    "random_grid = {'n_estimators': n_estimators,\n",
    "               'max_features': max_features,\n",
    "               'max_depth': max_depth,\n",
    "               'min_samples_split': min_samples_split,\n",
    "               'min_samples_leaf': min_samples_leaf,\n",
    "               'bootstrap': bootstrap}"
   ]
  },
  {
   "cell_type": "markdown",
   "id": "479b2a59",
   "metadata": {
    "scrolled": true
   },
   "source": [
    "tuningModel = RandomForestClassifier()\n",
    "\n",
    "tuningModel_random = RandomizedSearchCV(estimator = tuningModel, param_distributions = random_grid, \n",
    "                               n_iter = 10, cv = 5, verbose=2, random_state=42, n_jobs = -1)\n",
    "\n",
    "search = tuningModel_random.fit(X_train, y_train)\n",
    "print(search.best_params_)"
   ]
  },
  {
   "cell_type": "markdown",
   "id": "00288a32",
   "metadata": {},
   "source": [
    "from sklearn.pipeline import Pipeline\n",
    "from sklearn.model_selection import cross_val_score"
   ]
  },
  {
   "cell_type": "markdown",
   "id": "399d0d00",
   "metadata": {},
   "source": [
    "pipe = Pipeline([('trans',transformer),\n",
    "                ('clf',RandomForestClassifier(n_estimators=600,min_samples_split=7,min_samples_leaf=1\n",
    "                                            ,max_features='sqrt',max_depth=89,\n",
    "                                            bootstrap=False))])"
   ]
  },
  {
   "cell_type": "markdown",
   "id": "48837ea2",
   "metadata": {},
   "source": [
    "X_train, X_test, y_train, y_test = train_test_split(X, y, test_size=0.2, random_state=42)"
   ]
  },
  {
   "cell_type": "markdown",
   "id": "38723b95",
   "metadata": {},
   "source": [
    "pipe.fit(X_train,y_train)"
   ]
  },
  {
   "cell_type": "markdown",
   "id": "a57ef983",
   "metadata": {},
   "source": [
    "score = pipe.score(X_test,y_test)\n",
    "print(score)"
   ]
  },
  {
   "cell_type": "markdown",
   "id": "7852c0af",
   "metadata": {},
   "source": [
    "pipe_results = pipe.predict(X_test)"
   ]
  },
  {
   "cell_type": "markdown",
   "id": "df506352",
   "metadata": {
    "scrolled": true
   },
   "source": [
    "cohen_kappa_score(pipe_results, y_test,weights='quadratic')"
   ]
  },
  {
   "cell_type": "markdown",
   "id": "ffe9cf84",
   "metadata": {},
   "source": [
    "print(classification_report(pipe_results,y_test))"
   ]
  }
 ],
 "metadata": {
  "kernelspec": {
   "display_name": "Python 3 (ipykernel)",
   "language": "python",
   "name": "python3"
  },
  "language_info": {
   "codemirror_mode": {
    "name": "ipython",
    "version": 3
   },
   "file_extension": ".py",
   "mimetype": "text/x-python",
   "name": "python",
   "nbconvert_exporter": "python",
   "pygments_lexer": "ipython3",
   "version": "3.11.5"
  }
 },
 "nbformat": 4,
 "nbformat_minor": 5
}
