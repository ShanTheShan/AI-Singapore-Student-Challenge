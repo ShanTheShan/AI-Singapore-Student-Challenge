{
 "cells": [
  {
   "cell_type": "code",
   "execution_count": 1,
   "id": "922b71b9",
   "metadata": {},
   "outputs": [],
   "source": [
    "import pandas as pd\n",
    "import numpy as np\n",
    "import matplotlib.pyplot as plt\n",
    "import seaborn as sns\n",
    "from sklearn.model_selection import train_test_split\n",
    "from sklearn.preprocessing import StandardScaler\n",
    "from sklearn.metrics import classification_report,confusion_matrix,ConfusionMatrixDisplay\n",
    "from sklearn.metrics import cohen_kappa_score"
   ]
  },
  {
   "cell_type": "markdown",
   "id": "acc99c0e",
   "metadata": {},
   "source": [
    "We already know what features to select from the EDA performed, and the correlation matrix displayed."
   ]
  },
  {
   "cell_type": "code",
   "execution_count": 2,
   "id": "62a9afd8",
   "metadata": {},
   "outputs": [],
   "source": [
    "df = pd.read_csv('dataset/cleaned_pets.csv')"
   ]
  },
  {
   "cell_type": "code",
   "execution_count": 3,
   "id": "b9f8da16",
   "metadata": {},
   "outputs": [],
   "source": [
    "df = df.filter(['AdoptionSpeed','Age','AgeBins','Description'])"
   ]
  },
  {
   "cell_type": "code",
   "execution_count": 4,
   "id": "b7c2dbe7",
   "metadata": {},
   "outputs": [
    {
     "data": {
      "text/plain": [
       "(14947, 4)"
      ]
     },
     "execution_count": 4,
     "metadata": {},
     "output_type": "execute_result"
    }
   ],
   "source": [
    "df.shape"
   ]
  },
  {
   "cell_type": "markdown",
   "id": "84ce422d",
   "metadata": {},
   "source": [
    "## Evaluation Protocol and Measurements of Success\n",
    "\n",
    "For this dataset, we will need the precision for each of the 5 adoption speed classes, and the overall accuracy of the model.\n",
    "\n",
    "The dataset is slightly below 15k samples. A small dataset, for this, K-fold cross validation"
   ]
  },
  {
   "cell_type": "markdown",
   "id": "a2108be5",
   "metadata": {},
   "source": [
    "## Feature Engineering\n",
    "\n",
    "Creating a new feature based of the 3 colors, into a singular multi-color combination label. If animals has more than 1 color coat, it has multi color, else 0.\n",
    "\n",
    "Same thing for Vaccinated and Sterilized. New feature immunized.\n",
    "\n",
    "Another feautre to create is description length, do short description influence adoption speed.\n",
    "\n",
    "We also know from the EDA that majority breeds are mixed or domestic, with many pure breeds having a very low counts. Group them into 'Others'."
   ]
  },
  {
   "cell_type": "markdown",
   "id": "333567a1",
   "metadata": {},
   "source": [
    " Log Transformation of Age, Quantity and WordCount to normalize the distribution has no effect on random forest or GB, but reduces others performance."
   ]
  },
  {
   "cell_type": "code",
   "execution_count": 5,
   "id": "93af108d",
   "metadata": {},
   "outputs": [],
   "source": [
    "df['MultiColor'] = np.where((df['Color2'] == 0) & (df['Color3'] == 0),0,1)"
   ]
  },
  {
   "cell_type": "code",
   "execution_count": 6,
   "id": "56d133f4",
   "metadata": {},
   "outputs": [],
   "source": [
    "df['Immunized'] = np.where((df['Vaccinated'] == 1) & (df['Sterilized'] == 1),1,0)"
   ]
  },
  {
   "cell_type": "code",
   "execution_count": 7,
   "id": "df273c2c",
   "metadata": {},
   "outputs": [],
   "source": [
    "df = df.drop(columns={'Color1','Color2','Color3'})"
   ]
  },
  {
   "cell_type": "code",
   "execution_count": 5,
   "id": "76b87efc",
   "metadata": {},
   "outputs": [],
   "source": [
    "df['WordCount'] = df['Description'].apply(lambda x: len(x.split()))"
   ]
  },
  {
   "cell_type": "code",
   "execution_count": 9,
   "id": "c2051f1f",
   "metadata": {},
   "outputs": [],
   "source": [
    "def breed_transform(row):\n",
    "    if row['Breed1'] == 266:\n",
    "        return 'Domestic Short Hair'\n",
    "    elif row['Breed1'] == 264:\n",
    "        return 'Domestic Long Hair'\n",
    "    elif row['Breed1'] == 265:\n",
    "        return 'Domestic Medium Hair'\n",
    "    elif row['Breed1'] == 307:\n",
    "        return 'Mixed Breed'\n",
    "    else:\n",
    "        return 'Others'"
   ]
  },
  {
   "cell_type": "code",
   "execution_count": 10,
   "id": "963ef045",
   "metadata": {},
   "outputs": [],
   "source": [
    "df['Breed1'] = df.apply(breed_transform, axis=1)"
   ]
  },
  {
   "cell_type": "code",
   "execution_count": 6,
   "id": "02d81295",
   "metadata": {},
   "outputs": [],
   "source": [
    "df['Pregnant'] = np.where(df['Description'].str.contains('pregnant') == True,1,0)"
   ]
  },
  {
   "cell_type": "code",
   "execution_count": 12,
   "id": "e52ae34a",
   "metadata": {},
   "outputs": [
    {
     "data": {
      "text/plain": [
       "(14947, 17)"
      ]
     },
     "execution_count": 12,
     "metadata": {},
     "output_type": "execute_result"
    }
   ],
   "source": [
    "df.shape"
   ]
  },
  {
   "cell_type": "code",
   "execution_count": 7,
   "id": "d2723170",
   "metadata": {
    "scrolled": true
   },
   "outputs": [
    {
     "data": {
      "text/html": [
       "<div>\n",
       "<style scoped>\n",
       "    .dataframe tbody tr th:only-of-type {\n",
       "        vertical-align: middle;\n",
       "    }\n",
       "\n",
       "    .dataframe tbody tr th {\n",
       "        vertical-align: top;\n",
       "    }\n",
       "\n",
       "    .dataframe thead th {\n",
       "        text-align: right;\n",
       "    }\n",
       "</style>\n",
       "<table border=\"1\" class=\"dataframe\">\n",
       "  <thead>\n",
       "    <tr style=\"text-align: right;\">\n",
       "      <th></th>\n",
       "      <th>AdoptionSpeed</th>\n",
       "      <th>Age</th>\n",
       "      <th>AgeBins</th>\n",
       "      <th>Description</th>\n",
       "      <th>WordCount</th>\n",
       "      <th>Pregnant</th>\n",
       "    </tr>\n",
       "  </thead>\n",
       "  <tbody>\n",
       "    <tr>\n",
       "      <th>0</th>\n",
       "      <td>2</td>\n",
       "      <td>3</td>\n",
       "      <td>[3,6]</td>\n",
       "      <td>nibble month old ball cuteness energetic playf...</td>\n",
       "      <td>34</td>\n",
       "      <td>0</td>\n",
       "    </tr>\n",
       "    <tr>\n",
       "      <th>1</th>\n",
       "      <td>0</td>\n",
       "      <td>1</td>\n",
       "      <td>[0,2]</td>\n",
       "      <td>found alone yesterday near apartment shaking b...</td>\n",
       "      <td>11</td>\n",
       "      <td>0</td>\n",
       "    </tr>\n",
       "    <tr>\n",
       "      <th>2</th>\n",
       "      <td>3</td>\n",
       "      <td>1</td>\n",
       "      <td>[0,2]</td>\n",
       "      <td>pregnant mother dumped irresponsible owner roa...</td>\n",
       "      <td>38</td>\n",
       "      <td>1</td>\n",
       "    </tr>\n",
       "  </tbody>\n",
       "</table>\n",
       "</div>"
      ],
      "text/plain": [
       "   AdoptionSpeed  Age AgeBins  \\\n",
       "0              2    3   [3,6]   \n",
       "1              0    1   [0,2]   \n",
       "2              3    1   [0,2]   \n",
       "\n",
       "                                         Description  WordCount  Pregnant  \n",
       "0  nibble month old ball cuteness energetic playf...         34         0  \n",
       "1  found alone yesterday near apartment shaking b...         11         0  \n",
       "2  pregnant mother dumped irresponsible owner roa...         38         1  "
      ]
     },
     "execution_count": 7,
     "metadata": {},
     "output_type": "execute_result"
    }
   ],
   "source": [
    "df.head(3)"
   ]
  },
  {
   "cell_type": "code",
   "execution_count": 14,
   "id": "200089da",
   "metadata": {
    "scrolled": true
   },
   "outputs": [
    {
     "data": {
      "text/html": [
       "<div>\n",
       "<style scoped>\n",
       "    .dataframe tbody tr th:only-of-type {\n",
       "        vertical-align: middle;\n",
       "    }\n",
       "\n",
       "    .dataframe tbody tr th {\n",
       "        vertical-align: top;\n",
       "    }\n",
       "\n",
       "    .dataframe thead th {\n",
       "        text-align: right;\n",
       "    }\n",
       "</style>\n",
       "<table border=\"1\" class=\"dataframe\">\n",
       "  <thead>\n",
       "    <tr style=\"text-align: right;\">\n",
       "      <th></th>\n",
       "      <th>AdoptionSpeed</th>\n",
       "      <th>Age</th>\n",
       "      <th>Gender</th>\n",
       "      <th>MaturitySize</th>\n",
       "      <th>Health</th>\n",
       "      <th>Quantity</th>\n",
       "      <th>Vaccinated</th>\n",
       "      <th>Sterilized</th>\n",
       "      <th>FurLength</th>\n",
       "      <th>Type</th>\n",
       "      <th>MultiColor</th>\n",
       "      <th>Immunized</th>\n",
       "      <th>WordCount</th>\n",
       "      <th>Pregnant</th>\n",
       "    </tr>\n",
       "  </thead>\n",
       "  <tbody>\n",
       "    <tr>\n",
       "      <th>count</th>\n",
       "      <td>14947.000000</td>\n",
       "      <td>14947.000000</td>\n",
       "      <td>14947.000000</td>\n",
       "      <td>14947.000000</td>\n",
       "      <td>14947.000000</td>\n",
       "      <td>14947.000000</td>\n",
       "      <td>14947.000000</td>\n",
       "      <td>14947.000000</td>\n",
       "      <td>14947.000000</td>\n",
       "      <td>14947.000000</td>\n",
       "      <td>14947.000000</td>\n",
       "      <td>14947.000000</td>\n",
       "      <td>14947.000000</td>\n",
       "      <td>14947.000000</td>\n",
       "    </tr>\n",
       "    <tr>\n",
       "      <th>mean</th>\n",
       "      <td>2.516492</td>\n",
       "      <td>10.451663</td>\n",
       "      <td>1.776209</td>\n",
       "      <td>1.862247</td>\n",
       "      <td>1.036596</td>\n",
       "      <td>1.575835</td>\n",
       "      <td>1.731117</td>\n",
       "      <td>1.914030</td>\n",
       "      <td>1.467719</td>\n",
       "      <td>1.457550</td>\n",
       "      <td>0.701813</td>\n",
       "      <td>0.167525</td>\n",
       "      <td>40.726969</td>\n",
       "      <td>0.018131</td>\n",
       "    </tr>\n",
       "    <tr>\n",
       "      <th>std</th>\n",
       "      <td>1.177328</td>\n",
       "      <td>18.158534</td>\n",
       "      <td>0.681444</td>\n",
       "      <td>0.547329</td>\n",
       "      <td>0.199521</td>\n",
       "      <td>1.473228</td>\n",
       "      <td>0.667854</td>\n",
       "      <td>0.566147</td>\n",
       "      <td>0.599030</td>\n",
       "      <td>0.498211</td>\n",
       "      <td>0.457477</td>\n",
       "      <td>0.373457</td>\n",
       "      <td>46.574389</td>\n",
       "      <td>0.133429</td>\n",
       "    </tr>\n",
       "    <tr>\n",
       "      <th>min</th>\n",
       "      <td>0.000000</td>\n",
       "      <td>0.000000</td>\n",
       "      <td>1.000000</td>\n",
       "      <td>1.000000</td>\n",
       "      <td>1.000000</td>\n",
       "      <td>1.000000</td>\n",
       "      <td>1.000000</td>\n",
       "      <td>1.000000</td>\n",
       "      <td>1.000000</td>\n",
       "      <td>1.000000</td>\n",
       "      <td>0.000000</td>\n",
       "      <td>0.000000</td>\n",
       "      <td>0.000000</td>\n",
       "      <td>0.000000</td>\n",
       "    </tr>\n",
       "    <tr>\n",
       "      <th>25%</th>\n",
       "      <td>2.000000</td>\n",
       "      <td>2.000000</td>\n",
       "      <td>1.000000</td>\n",
       "      <td>2.000000</td>\n",
       "      <td>1.000000</td>\n",
       "      <td>1.000000</td>\n",
       "      <td>1.000000</td>\n",
       "      <td>2.000000</td>\n",
       "      <td>1.000000</td>\n",
       "      <td>1.000000</td>\n",
       "      <td>0.000000</td>\n",
       "      <td>0.000000</td>\n",
       "      <td>14.000000</td>\n",
       "      <td>0.000000</td>\n",
       "    </tr>\n",
       "    <tr>\n",
       "      <th>50%</th>\n",
       "      <td>2.000000</td>\n",
       "      <td>3.000000</td>\n",
       "      <td>2.000000</td>\n",
       "      <td>2.000000</td>\n",
       "      <td>1.000000</td>\n",
       "      <td>1.000000</td>\n",
       "      <td>2.000000</td>\n",
       "      <td>2.000000</td>\n",
       "      <td>1.000000</td>\n",
       "      <td>1.000000</td>\n",
       "      <td>1.000000</td>\n",
       "      <td>0.000000</td>\n",
       "      <td>28.000000</td>\n",
       "      <td>0.000000</td>\n",
       "    </tr>\n",
       "    <tr>\n",
       "      <th>75%</th>\n",
       "      <td>4.000000</td>\n",
       "      <td>11.500000</td>\n",
       "      <td>2.000000</td>\n",
       "      <td>2.000000</td>\n",
       "      <td>1.000000</td>\n",
       "      <td>1.000000</td>\n",
       "      <td>2.000000</td>\n",
       "      <td>2.000000</td>\n",
       "      <td>2.000000</td>\n",
       "      <td>2.000000</td>\n",
       "      <td>1.000000</td>\n",
       "      <td>0.000000</td>\n",
       "      <td>51.000000</td>\n",
       "      <td>0.000000</td>\n",
       "    </tr>\n",
       "    <tr>\n",
       "      <th>max</th>\n",
       "      <td>4.000000</td>\n",
       "      <td>255.000000</td>\n",
       "      <td>3.000000</td>\n",
       "      <td>4.000000</td>\n",
       "      <td>3.000000</td>\n",
       "      <td>20.000000</td>\n",
       "      <td>3.000000</td>\n",
       "      <td>3.000000</td>\n",
       "      <td>3.000000</td>\n",
       "      <td>2.000000</td>\n",
       "      <td>1.000000</td>\n",
       "      <td>1.000000</td>\n",
       "      <td>1207.000000</td>\n",
       "      <td>1.000000</td>\n",
       "    </tr>\n",
       "  </tbody>\n",
       "</table>\n",
       "</div>"
      ],
      "text/plain": [
       "       AdoptionSpeed           Age        Gender  MaturitySize        Health  \\\n",
       "count   14947.000000  14947.000000  14947.000000  14947.000000  14947.000000   \n",
       "mean        2.516492     10.451663      1.776209      1.862247      1.036596   \n",
       "std         1.177328     18.158534      0.681444      0.547329      0.199521   \n",
       "min         0.000000      0.000000      1.000000      1.000000      1.000000   \n",
       "25%         2.000000      2.000000      1.000000      2.000000      1.000000   \n",
       "50%         2.000000      3.000000      2.000000      2.000000      1.000000   \n",
       "75%         4.000000     11.500000      2.000000      2.000000      1.000000   \n",
       "max         4.000000    255.000000      3.000000      4.000000      3.000000   \n",
       "\n",
       "           Quantity    Vaccinated    Sterilized     FurLength          Type  \\\n",
       "count  14947.000000  14947.000000  14947.000000  14947.000000  14947.000000   \n",
       "mean       1.575835      1.731117      1.914030      1.467719      1.457550   \n",
       "std        1.473228      0.667854      0.566147      0.599030      0.498211   \n",
       "min        1.000000      1.000000      1.000000      1.000000      1.000000   \n",
       "25%        1.000000      1.000000      2.000000      1.000000      1.000000   \n",
       "50%        1.000000      2.000000      2.000000      1.000000      1.000000   \n",
       "75%        1.000000      2.000000      2.000000      2.000000      2.000000   \n",
       "max       20.000000      3.000000      3.000000      3.000000      2.000000   \n",
       "\n",
       "         MultiColor     Immunized     WordCount      Pregnant  \n",
       "count  14947.000000  14947.000000  14947.000000  14947.000000  \n",
       "mean       0.701813      0.167525     40.726969      0.018131  \n",
       "std        0.457477      0.373457     46.574389      0.133429  \n",
       "min        0.000000      0.000000      0.000000      0.000000  \n",
       "25%        0.000000      0.000000     14.000000      0.000000  \n",
       "50%        1.000000      0.000000     28.000000      0.000000  \n",
       "75%        1.000000      0.000000     51.000000      0.000000  \n",
       "max        1.000000      1.000000   1207.000000      1.000000  "
      ]
     },
     "execution_count": 14,
     "metadata": {},
     "output_type": "execute_result"
    }
   ],
   "source": [
    "df.describe()"
   ]
  },
  {
   "cell_type": "markdown",
   "id": "2d858d99",
   "metadata": {},
   "source": [
    "## Data Preparation"
   ]
  },
  {
   "cell_type": "markdown",
   "id": "39cec07c",
   "metadata": {},
   "source": [
    "Split into train and test."
   ]
  },
  {
   "cell_type": "code",
   "execution_count": 8,
   "id": "48553729",
   "metadata": {},
   "outputs": [],
   "source": [
    "#features and labels\n",
    "\n",
    "X = df.iloc[:,1:]\n",
    "\n",
    "y = df['AdoptionSpeed']"
   ]
  },
  {
   "cell_type": "code",
   "execution_count": 16,
   "id": "4b25134c",
   "metadata": {
    "scrolled": true
   },
   "outputs": [
    {
     "data": {
      "text/html": [
       "<div>\n",
       "<style scoped>\n",
       "    .dataframe tbody tr th:only-of-type {\n",
       "        vertical-align: middle;\n",
       "    }\n",
       "\n",
       "    .dataframe tbody tr th {\n",
       "        vertical-align: top;\n",
       "    }\n",
       "\n",
       "    .dataframe thead th {\n",
       "        text-align: right;\n",
       "    }\n",
       "</style>\n",
       "<table border=\"1\" class=\"dataframe\">\n",
       "  <thead>\n",
       "    <tr style=\"text-align: right;\">\n",
       "      <th></th>\n",
       "      <th>Age</th>\n",
       "      <th>Breed1</th>\n",
       "      <th>Gender</th>\n",
       "      <th>MaturitySize</th>\n",
       "      <th>Health</th>\n",
       "      <th>Quantity</th>\n",
       "      <th>Description</th>\n",
       "      <th>Vaccinated</th>\n",
       "      <th>Sterilized</th>\n",
       "      <th>FurLength</th>\n",
       "      <th>Type</th>\n",
       "      <th>MultiColor</th>\n",
       "      <th>Immunized</th>\n",
       "      <th>WordCount</th>\n",
       "      <th>Pregnant</th>\n",
       "    </tr>\n",
       "  </thead>\n",
       "  <tbody>\n",
       "    <tr>\n",
       "      <th>0</th>\n",
       "      <td>3</td>\n",
       "      <td>Others</td>\n",
       "      <td>1</td>\n",
       "      <td>1</td>\n",
       "      <td>1</td>\n",
       "      <td>1</td>\n",
       "      <td>nibble month old ball cuteness energetic playf...</td>\n",
       "      <td>2</td>\n",
       "      <td>2</td>\n",
       "      <td>1</td>\n",
       "      <td>2</td>\n",
       "      <td>1</td>\n",
       "      <td>0</td>\n",
       "      <td>34</td>\n",
       "      <td>0</td>\n",
       "    </tr>\n",
       "    <tr>\n",
       "      <th>1</th>\n",
       "      <td>1</td>\n",
       "      <td>Domestic Medium Hair</td>\n",
       "      <td>1</td>\n",
       "      <td>2</td>\n",
       "      <td>1</td>\n",
       "      <td>1</td>\n",
       "      <td>found alone yesterday near apartment shaking b...</td>\n",
       "      <td>3</td>\n",
       "      <td>3</td>\n",
       "      <td>2</td>\n",
       "      <td>2</td>\n",
       "      <td>1</td>\n",
       "      <td>0</td>\n",
       "      <td>11</td>\n",
       "      <td>0</td>\n",
       "    </tr>\n",
       "  </tbody>\n",
       "</table>\n",
       "</div>"
      ],
      "text/plain": [
       "   Age                Breed1  Gender  MaturitySize  Health  Quantity  \\\n",
       "0    3                Others       1             1       1         1   \n",
       "1    1  Domestic Medium Hair       1             2       1         1   \n",
       "\n",
       "                                         Description  Vaccinated  Sterilized  \\\n",
       "0  nibble month old ball cuteness energetic playf...           2           2   \n",
       "1  found alone yesterday near apartment shaking b...           3           3   \n",
       "\n",
       "   FurLength  Type  MultiColor  Immunized  WordCount  Pregnant  \n",
       "0          1     2           1          0         34         0  \n",
       "1          2     2           1          0         11         0  "
      ]
     },
     "execution_count": 16,
     "metadata": {},
     "output_type": "execute_result"
    }
   ],
   "source": [
    "X.head(2)"
   ]
  },
  {
   "cell_type": "code",
   "execution_count": 21,
   "id": "d01c4cd8",
   "metadata": {},
   "outputs": [],
   "source": [
    "X_train,X_test,y_train,y_test = train_test_split(X,y,test_size=0.2)"
   ]
  },
  {
   "cell_type": "markdown",
   "id": "e4ef99f4",
   "metadata": {},
   "source": [
    "##  Age and quantity outliers"
   ]
  },
  {
   "cell_type": "code",
   "execution_count": 18,
   "id": "19cb1067",
   "metadata": {},
   "outputs": [
    {
     "data": {
      "image/png": "[encoded data removed]",
      "text/plain": [
       "<Figure size 2000x300 with 1 Axes>"
      ]
     },
     "metadata": {},
     "output_type": "display_data"
    }
   ],
   "source": [
    "plt.figure(figsize=(20,3))\n",
    "sns.boxplot(X_train['Age'],orient='h')\n",
    "plt.title('Age Box Plot')\n",
    "plt.show()"
   ]
  },
  {
   "cell_type": "code",
   "execution_count": 19,
   "id": "997caa9c",
   "metadata": {
    "scrolled": true
   },
   "outputs": [
    {
     "data": {
      "image/png": "[encoded data removed]",
      "text/plain": [
       "<Figure size 1500x300 with 1 Axes>"
      ]
     },
     "metadata": {},
     "output_type": "display_data"
    }
   ],
   "source": [
    "plt.figure(figsize=(15,3))\n",
    "sns.boxplot(X_train['Quantity'],orient='h')\n",
    "plt.title('Quantity Box Plot')\n",
    "plt.show()"
   ]
  },
  {
   "cell_type": "code",
   "execution_count": 20,
   "id": "c3ae49c5",
   "metadata": {},
   "outputs": [],
   "source": [
    "def removeOutliers(col,threshold,x,y):\n",
    "    outlierIndexes = x.index[x[col]>threshold].tolist()\n",
    "    x = x.drop(outlierIndexes)\n",
    "    y = y.drop(outlierIndexes)\n",
    "    \n",
    "    plt.figure(figsize=(20,3))\n",
    "    sns.boxplot(x[col],orient='h')\n",
    "    plt.title(f'{col} box plot outliers dropped')\n",
    "    plt.show()\n",
    "    \n",
    "    return x,y"
   ]
  },
  {
   "cell_type": "markdown",
   "id": "9a638ad0",
   "metadata": {},
   "source": [
    "# Removal of outliers actually decreased the performance by 1-3%."
   ]
  },
  {
   "cell_type": "code",
   "execution_count": 21,
   "id": "bf40c843",
   "metadata": {},
   "outputs": [
    {
     "name": "stdout",
     "output_type": "stream",
     "text": [
      "(10462, 15)\n",
      "(10462,)\n"
     ]
    }
   ],
   "source": [
    "print(X_train.shape)\n",
    "print(y_train.shape)"
   ]
  },
  {
   "cell_type": "markdown",
   "id": "fd56a96d",
   "metadata": {},
   "source": [
    "Now to plot the counts of each of the multi-class labels."
   ]
  },
  {
   "cell_type": "code",
   "execution_count": 22,
   "id": "702fb2a6",
   "metadata": {},
   "outputs": [],
   "source": [
    "y_counts = y_train.value_counts()"
   ]
  },
  {
   "cell_type": "code",
   "execution_count": 23,
   "id": "5d692077",
   "metadata": {
    "scrolled": true
   },
   "outputs": [
    {
     "data": {
      "text/plain": [
       "AdoptionSpeed\n",
       "4    2936\n",
       "2    2794\n",
       "3    2264\n",
       "1    2177\n",
       "0     291\n",
       "Name: count, dtype: int64"
      ]
     },
     "execution_count": 23,
     "metadata": {},
     "output_type": "execute_result"
    }
   ],
   "source": [
    "y_counts"
   ]
  },
  {
   "cell_type": "code",
   "execution_count": 24,
   "id": "8d42f178",
   "metadata": {},
   "outputs": [],
   "source": [
    "adoptionSpeed_counts_X = y_counts.index.values.tolist()\n",
    "adoptionSpeed_counts_Y = y_counts.to_list()"
   ]
  },
  {
   "cell_type": "code",
   "execution_count": 25,
   "id": "2f7fb89c",
   "metadata": {},
   "outputs": [
    {
     "data": {
      "image/png": "[encoded data removed]",
      "text/plain": [
       "<Figure size 640x480 with 1 Axes>"
      ]
     },
     "metadata": {},
     "output_type": "display_data"
    }
   ],
   "source": [
    "fig, ax = plt.subplots()\n",
    "\n",
    "ax.bar(adoptionSpeed_counts_X, adoptionSpeed_counts_Y)\n",
    "ax.set_title('AdoptionSpeed Class Sample Count')\n",
    "\n",
    "plt.show()"
   ]
  },
  {
   "cell_type": "markdown",
   "id": "1a0862bc",
   "metadata": {},
   "source": [
    "The 0 class has a significantly lower sample count compared to the rest. Since the dataset is a reflection of real pet listings and adoption rates, I will not artifially balance the classes through data augmentation."
   ]
  },
  {
   "cell_type": "markdown",
   "id": "f865b556",
   "metadata": {},
   "source": [
    "Standardize the age range, photo amount and quantity, then one hot encode all the other categorical features."
   ]
  },
  {
   "cell_type": "code",
   "execution_count": 26,
   "id": "621f0b4e",
   "metadata": {},
   "outputs": [],
   "source": [
    "def plotDistribution(df):\n",
    "    fig, ax = plt.subplots(2,1,figsize=(15, 10))\n",
    "    \n",
    "    ax[0].bar(df['Age'].unique(),df['Age'].value_counts())\n",
    "    ax[0].set_title('Age Distribution')\n",
    "    \n",
    "    ax[1].bar(df['WordCount'].unique(),df['WordCount'].value_counts())\n",
    "    ax[1].set_title('WordCount Distribution')\n",
    "    \n",
    "    \n",
    "    plt.show()"
   ]
  },
  {
   "cell_type": "code",
   "execution_count": 27,
   "id": "630daf56",
   "metadata": {
    "scrolled": false
   },
   "outputs": [
    {
     "data": {
      "image/png": "[encoded data removed]",
      "text/plain": [
       "<Figure size 1500x1000 with 2 Axes>"
      ]
     },
     "metadata": {},
     "output_type": "display_data"
    }
   ],
   "source": [
    "plotDistribution(X_train)"
   ]
  },
  {
   "cell_type": "code",
   "execution_count": 16,
   "id": "81357d52",
   "metadata": {
    "scrolled": false
   },
   "outputs": [],
   "source": [
    "#takes pandas df and the col to tranforms, return the df\n",
    "def log_transformation(df,col):\n",
    "    df['temp'] = np.log1p(df[col])\n",
    "    df = df.drop(columns=col)\n",
    "    df = df.rename(columns={'temp':col})\n",
    "    return df"
   ]
  },
  {
   "cell_type": "code",
   "execution_count": 29,
   "id": "f25812d0",
   "metadata": {},
   "outputs": [],
   "source": [
    "X_train = log_transformation(X_train,'Age')\n",
    "X_train = log_transformation(X_train,'WordCount')"
   ]
  },
  {
   "cell_type": "code",
   "execution_count": 30,
   "id": "96e25f3e",
   "metadata": {},
   "outputs": [
    {
     "data": {
      "image/png": "[encoded data removed]",
      "text/plain": [
       "<Figure size 1500x1000 with 2 Axes>"
      ]
     },
     "metadata": {},
     "output_type": "display_data"
    }
   ],
   "source": [
    "plotDistribution(X_train)"
   ]
  },
  {
   "cell_type": "markdown",
   "id": "5ec176c7",
   "metadata": {},
   "source": [
    "# Model Selection\n",
    "\n",
    "Here we decide what model to use."
   ]
  },
  {
   "cell_type": "markdown",
   "id": "edb732fd",
   "metadata": {},
   "source": [
    "## Baseline Model\n",
    "\n",
    "Importing and loading our classification models, then evaluating and establishing a baseline model to beat."
   ]
  },
  {
   "cell_type": "code",
   "execution_count": 9,
   "id": "33b02ded",
   "metadata": {},
   "outputs": [],
   "source": [
    "from sklearn.feature_extraction.text import CountVectorizer\n",
    "from sklearn.preprocessing import StandardScaler,MinMaxScaler,OneHotEncoder\n",
    "from sklearn.compose import ColumnTransformer\n",
    "from sklearn.feature_selection import SelectKBest, mutual_info_classif, chi2\n",
    "from sklearn.pipeline import Pipeline\n",
    "from sklearn.model_selection import cross_val_score, KFold"
   ]
  },
  {
   "cell_type": "code",
   "execution_count": 10,
   "id": "a12acf13",
   "metadata": {},
   "outputs": [],
   "source": [
    "from sklearn.linear_model import LogisticRegression\n",
    "from sklearn.svm import SVC\n",
    "from sklearn.neighbors import KNeighborsClassifier\n",
    "from sklearn.tree import DecisionTreeClassifier\n",
    "from sklearn.ensemble import RandomForestClassifier\n",
    "from sklearn.ensemble import GradientBoostingClassifier"
   ]
  },
  {
   "cell_type": "code",
   "execution_count": 18,
   "id": "4dc0a198",
   "metadata": {},
   "outputs": [],
   "source": [
    "transformer = ColumnTransformer(transformers=[\n",
    "    ('a1', StandardScaler(), ['Age','WordCount','Quantity']),\n",
    "    ('a2', OneHotEncoder(handle_unknown='ignore'), ['AgeBins','Breed1','Gender','MaturitySize','Health','Vaccinated',\n",
    "                                                    'Sterilized','FurLength','Type','MultiColor',\n",
    "                                                    'Immunized','Pregnant']),\n",
    "    ('a3', CountVectorizer(), 'Description'),\n",
    "], remainder='passthrough')"
   ]
  },
  {
   "cell_type": "code",
   "execution_count": 22,
   "id": "2e026e57",
   "metadata": {},
   "outputs": [],
   "source": [
    "X_train = transformer.fit_transform(X_train)\n",
    "X_test= transformer.transform(X_test)"
   ]
  },
  {
   "cell_type": "code",
   "execution_count": 23,
   "id": "80d49da2",
   "metadata": {},
   "outputs": [],
   "source": [
    "def getBaseModel(x,y,x2,y2):\n",
    "    models_list = [\n",
    "    SVC(decision_function_shape='ovo'),\n",
    "    LogisticRegression(multi_class='ovr',max_iter=1000),\n",
    "    KNeighborsClassifier(n_neighbors=5),\n",
    "    DecisionTreeClassifier(),\n",
    "    RandomForestClassifier(),\n",
    "    GradientBoostingClassifier()]\n",
    "    \n",
    "    for model in models_list:\n",
    "        model.fit(x,y)\n",
    "        results = model.predict(x2)\n",
    "        print(f'Results for {model}')\n",
    "        print(classification_report(y2,results))"
   ]
  },
  {
   "cell_type": "code",
   "execution_count": 24,
   "id": "a58db2a9",
   "metadata": {
    "scrolled": false
   },
   "outputs": [
    {
     "name": "stdout",
     "output_type": "stream",
     "text": [
      "Results for SVC(decision_function_shape='ovo')\n",
      "              precision    recall  f1-score   support\n",
      "\n",
      "           0       1.00      0.01      0.02        84\n",
      "           1       0.40      0.27      0.32       651\n",
      "           2       0.39      0.68      0.50       814\n",
      "           3       0.47      0.25      0.33       629\n",
      "           4       0.95      0.94      0.94       812\n",
      "\n",
      "    accuracy                           0.55      2990\n",
      "   macro avg       0.64      0.43      0.42      2990\n",
      "weighted avg       0.58      0.55      0.53      2990\n",
      "\n",
      "Results for LogisticRegression(max_iter=1000, multi_class='ovr')\n",
      "              precision    recall  f1-score   support\n",
      "\n",
      "           0       0.29      0.06      0.10        84\n",
      "           1       0.41      0.39      0.40       651\n",
      "           2       0.42      0.50      0.46       814\n",
      "           3       0.41      0.38      0.39       629\n",
      "           4       0.97      0.97      0.97       812\n",
      "\n",
      "    accuracy                           0.57      2990\n",
      "   macro avg       0.50      0.46      0.46      2990\n",
      "weighted avg       0.56      0.57      0.56      2990\n",
      "\n",
      "Results for KNeighborsClassifier()\n",
      "              precision    recall  f1-score   support\n",
      "\n",
      "           0       0.11      0.06      0.08        84\n",
      "           1       0.33      0.41      0.36       651\n",
      "           2       0.38      0.40      0.39       814\n",
      "           3       0.34      0.27      0.30       629\n",
      "           4       0.78      0.75      0.77       812\n",
      "\n",
      "    accuracy                           0.46      2990\n",
      "   macro avg       0.39      0.38      0.38      2990\n",
      "weighted avg       0.46      0.46      0.46      2990\n",
      "\n",
      "Results for DecisionTreeClassifier()\n",
      "              precision    recall  f1-score   support\n",
      "\n",
      "           0       0.19      0.14      0.16        84\n",
      "           1       0.41      0.39      0.40       651\n",
      "           2       0.41      0.43      0.42       814\n",
      "           3       0.36      0.38      0.37       629\n",
      "           4       0.95      0.93      0.94       812\n",
      "\n",
      "    accuracy                           0.54      2990\n",
      "   macro avg       0.46      0.46      0.46      2990\n",
      "weighted avg       0.54      0.54      0.54      2990\n",
      "\n",
      "Results for RandomForestClassifier()\n",
      "              precision    recall  f1-score   support\n",
      "\n",
      "           0       0.43      0.04      0.07        84\n",
      "           1       0.45      0.35      0.40       651\n",
      "           2       0.43      0.65      0.52       814\n",
      "           3       0.46      0.33      0.38       629\n",
      "           4       0.97      0.96      0.97       812\n",
      "\n",
      "    accuracy                           0.59      2990\n",
      "   macro avg       0.55      0.47      0.47      2990\n",
      "weighted avg       0.59      0.59      0.57      2990\n",
      "\n",
      "Results for GradientBoostingClassifier()\n",
      "              precision    recall  f1-score   support\n",
      "\n",
      "           0       0.17      0.04      0.06        84\n",
      "           1       0.42      0.25      0.31       651\n",
      "           2       0.39      0.75      0.52       814\n",
      "           3       0.47      0.22      0.30       629\n",
      "           4       0.98      0.92      0.95       812\n",
      "\n",
      "    accuracy                           0.55      2990\n",
      "   macro avg       0.49      0.43      0.43      2990\n",
      "weighted avg       0.57      0.55      0.53      2990\n",
      "\n"
     ]
    }
   ],
   "source": [
    "getBaseModel(X_train,y_train,X_test,y_test)"
   ]
  },
  {
   "cell_type": "code",
   "execution_count": null,
   "id": "420f1e7e",
   "metadata": {},
   "outputs": [],
   "source": [
    "from sklearn.model_selection import learning_curve"
   ]
  },
  {
   "cell_type": "code",
   "execution_count": null,
   "id": "b2802199",
   "metadata": {},
   "outputs": [],
   "source": [
    "train_sizes_abs,train_scores,test_scores = learning_curve(RandomForestClassifier(),\n",
    "                                          X_train,\n",
    "                                          y_train,\n",
    "                                          cv=5,\n",
    "                                          scoring='accuracy',\n",
    "                                          n_jobs=-1,\n",
    "                                          train_sizes=np.linspace(0.01,1,50),\n",
    "                                          verbose=1)"
   ]
  },
  {
   "cell_type": "code",
   "execution_count": null,
   "id": "2e94d1e3",
   "metadata": {},
   "outputs": [],
   "source": [
    "train_mean = np.mean(train_scores,axis=1)\n",
    "test_mean = np.mean(test_scores,axis=1)"
   ]
  },
  {
   "cell_type": "code",
   "execution_count": null,
   "id": "d1d670a4",
   "metadata": {
    "scrolled": false
   },
   "outputs": [],
   "source": [
    "plt.plot(train_sizes_abs,train_mean, label='Training Score')\n",
    "plt.plot(train_sizes_abs,test_mean, label='Validation Score')\n",
    "plt.legend()\n",
    "plt.title('Learning Curve')\n",
    "plt.show()"
   ]
  },
  {
   "cell_type": "markdown",
   "id": "42192c9d",
   "metadata": {},
   "source": [
    "# Pipeline\n",
    "\n",
    "The pipeline includes selectkbest features, as the model is overfitting, and not capturing the pattern between classes 1, 2 and 3."
   ]
  },
  {
   "cell_type": "code",
   "execution_count": null,
   "id": "c685ac0b",
   "metadata": {
    "scrolled": true
   },
   "outputs": [],
   "source": [
    "X = log_transformation(X,'Age')\n",
    "X = log_transformation(X,'WordCount')"
   ]
  },
  {
   "cell_type": "code",
   "execution_count": 12,
   "id": "8149434f",
   "metadata": {},
   "outputs": [],
   "source": [
    "pipeline = Pipeline(steps=[\n",
    "    ('preprocessor', ColumnTransformer(transformers=[\n",
    "        ('a1', MinMaxScaler(), ['Age','WordCount']),\n",
    "        ('a2', OneHotEncoder(handle_unknown='ignore'), ['Pregnant','AgeBins']),\n",
    "        ('a3', CountVectorizer(), 'Description'),], remainder='passthrough')),\n",
    "    ('model', RandomForestClassifier())\n",
    "])"
   ]
  },
  {
   "cell_type": "code",
   "execution_count": 13,
   "id": "0a44c295",
   "metadata": {},
   "outputs": [],
   "source": [
    "kf = KFold(n_splits=5, shuffle=True, random_state=42)"
   ]
  },
  {
   "cell_type": "code",
   "execution_count": 14,
   "id": "1e56332b",
   "metadata": {
    "scrolled": true
   },
   "outputs": [],
   "source": [
    "scores = cross_val_score(pipeline, X, y, cv=kf)"
   ]
  },
  {
   "cell_type": "code",
   "execution_count": 15,
   "id": "1c0cc22f",
   "metadata": {},
   "outputs": [],
   "source": [
    "def displayCrossValScores(score):\n",
    "    x_labels = [x for x in range(1,6)]\n",
    "    plt.bar(x_labels,scores)\n",
    "    plt.title('Cross Val Scores')\n",
    "    plt.plot() \n",
    "    print(np.mean(score))"
   ]
  },
  {
   "cell_type": "code",
   "execution_count": 16,
   "id": "9eac6728",
   "metadata": {},
   "outputs": [
    {
     "name": "stdout",
     "output_type": "stream",
     "text": [
      "0.5710837843553452\n"
     ]
    },
    {
     "data": {
      "image/png": "[encoded data removed]",
      "text/plain": [
       "<Figure size 640x480 with 1 Axes>"
      ]
     },
     "metadata": {},
     "output_type": "display_data"
    }
   ],
   "source": [
    "displayCrossValScores(scores)"
   ]
  },
  {
   "cell_type": "code",
   "execution_count": 23,
   "id": "22e8b427",
   "metadata": {},
   "outputs": [],
   "source": [
    "baseline_clf = RandomForestClassifier()\n",
    "baseline_clf.fit(X_train,y_train)\n",
    "baseline_results = baseline_clf.predict(X_test)"
   ]
  },
  {
   "cell_type": "code",
   "execution_count": 24,
   "id": "cedac7a2",
   "metadata": {},
   "outputs": [
    {
     "name": "stdout",
     "output_type": "stream",
     "text": [
      "              precision    recall  f1-score   support\n",
      "\n",
      "           0       0.69      0.08      0.14       113\n",
      "           1       0.47      0.35      0.40       943\n",
      "           2       0.42      0.66      0.51      1194\n",
      "           3       0.48      0.33      0.39       939\n",
      "           4       0.98      0.97      0.97      1296\n",
      "\n",
      "    accuracy                           0.60      4485\n",
      "   macro avg       0.61      0.48      0.48      4485\n",
      "weighted avg       0.61      0.60      0.59      4485\n",
      "\n"
     ]
    }
   ],
   "source": [
    "print(classification_report(y_test,baseline_results))"
   ]
  },
  {
   "cell_type": "code",
   "execution_count": 25,
   "id": "dd637332",
   "metadata": {},
   "outputs": [
    {
     "data": {
      "image/png": "[encoded data removed]",
      "text/plain": [
       "<Figure size 640x480 with 2 Axes>"
      ]
     },
     "metadata": {},
     "output_type": "display_data"
    }
   ],
   "source": [
    "cm = confusion_matrix(y_test, baseline_results, labels=baseline_clf.classes_)\n",
    "\n",
    "disp = ConfusionMatrixDisplay(confusion_matrix=cm, display_labels=baseline_clf.classes_)\n",
    "\n",
    "disp.plot()\n",
    "plt.show()"
   ]
  },
  {
   "cell_type": "markdown",
   "id": "52b03e43",
   "metadata": {},
   "source": [
    "RandomForest has the best score among the chosen classification models, after preprocessing the data. This shall be our baseline model.\n",
    "\n",
    "But the learning curve shows that obtaining more data will not help improve the performance of the model, as the validation score starts to stagnate around 5000 samples.\n",
    "\n",
    "This means we need to focus more on the features and the encoding process, to help the model understand the current data better.\n",
    "\n",
    "The model is also really struggling to differentiate between adoption speeds of 1,2 and 3, with the high number of FPs and FNs for the 3 classes."
   ]
  },
  {
   "cell_type": "markdown",
   "id": "f84d719a",
   "metadata": {},
   "source": [
    "## Hyper-parameter Tuning"
   ]
  },
  {
   "cell_type": "markdown",
   "id": "99437a20",
   "metadata": {},
   "source": [
    "Use random search grid as random forest has many different parameters covering a large range, resulting if high number of combinations."
   ]
  },
  {
   "cell_type": "code",
   "execution_count": 17,
   "id": "96d5b05e",
   "metadata": {},
   "outputs": [],
   "source": [
    "from sklearn.model_selection import RandomizedSearchCV"
   ]
  },
  {
   "cell_type": "code",
   "execution_count": 18,
   "id": "58336ce1",
   "metadata": {},
   "outputs": [],
   "source": [
    "n_estimators = [int(x) for x in np.linspace(start = 100, stop = 1000, num = 10)]\n",
    "max_features = ['log2', 'sqrt']\n",
    "max_depth = [int(x) for x in np.linspace(1, 100, num = 10)]\n",
    "max_depth.append(None)\n",
    "min_samples_split = [2, 5, 7, 10]\n",
    "min_samples_leaf = [1, 2, 4, 6]\n",
    "bootstrap = [True, False]"
   ]
  },
  {
   "cell_type": "code",
   "execution_count": 19,
   "id": "bd170e98",
   "metadata": {},
   "outputs": [],
   "source": [
    "random_grid = {'model__n_estimators': n_estimators,\n",
    "               'model__max_features': max_features,\n",
    "               'model__max_depth': max_depth,\n",
    "               'model__min_samples_split': min_samples_split,\n",
    "               'model__min_samples_leaf': min_samples_leaf,\n",
    "               'model__bootstrap': bootstrap}"
   ]
  },
  {
   "cell_type": "code",
   "execution_count": 20,
   "id": "be528391",
   "metadata": {},
   "outputs": [
    {
     "name": "stdout",
     "output_type": "stream",
     "text": [
      "Fitting 5 folds for each of 10 candidates, totalling 50 fits\n",
      "{'model__n_estimators': 600, 'model__min_samples_split': 7, 'model__min_samples_leaf': 1, 'model__max_features': 'sqrt', 'model__max_depth': 89, 'model__bootstrap': False}\n"
     ]
    }
   ],
   "source": [
    "tuningModel_random = RandomizedSearchCV(estimator = pipeline, param_distributions = random_grid, \n",
    "                               n_iter = 10, cv = 5, verbose=2, random_state=42, n_jobs = -1)\n",
    "\n",
    "search = tuningModel_random.fit(X, y)\n",
    "print(search.best_params_)"
   ]
  },
  {
   "cell_type": "markdown",
   "id": "c66a7c61",
   "metadata": {},
   "source": [
    "# Tuned Model"
   ]
  },
  {
   "cell_type": "code",
   "execution_count": 21,
   "id": "adfed140",
   "metadata": {},
   "outputs": [],
   "source": [
    "pipeline = Pipeline(steps=[\n",
    "    ('preprocessor', ColumnTransformer(transformers=[\n",
    "        ('a1', MinMaxScaler(), ['Age','WordCount']),\n",
    "        ('a2', OneHotEncoder(handle_unknown='ignore'), ['AgeBins','Pregnant']),\n",
    "        ('a3', CountVectorizer(), 'Description'),], remainder='passthrough')),\n",
    "    ('model', RandomForestClassifier(n_estimators=600,min_samples_split=7,min_samples_leaf=1,\n",
    "                                    max_features='sqrt',max_depth=89,\n",
    "                                    bootstrap=False))\n",
    "])"
   ]
  },
  {
   "cell_type": "code",
   "execution_count": 22,
   "id": "53a92a2e",
   "metadata": {},
   "outputs": [],
   "source": [
    "scores = cross_val_score(pipeline,X,y,cv=kf)"
   ]
  },
  {
   "cell_type": "code",
   "execution_count": 23,
   "id": "f7d13e56",
   "metadata": {},
   "outputs": [
    {
     "name": "stdout",
     "output_type": "stream",
     "text": [
      "0.5772402040480648\n"
     ]
    },
    {
     "data": {
      "image/png": "[encoded data removed]",
      "text/plain": [
       "<Figure size 640x480 with 1 Axes>"
      ]
     },
     "metadata": {},
     "output_type": "display_data"
    }
   ],
   "source": [
    "displayCrossValScores(scores)"
   ]
  }
 ],
 "metadata": {
  "kernelspec": {
   "display_name": "Python 3 (ipykernel)",
   "language": "python",
   "name": "python3"
  },
  "language_info": {
   "codemirror_mode": {
    "name": "ipython",
    "version": 3
   },
   "file_extension": ".py",
   "mimetype": "text/x-python",
   "name": "python",
   "nbconvert_exporter": "python",
   "pygments_lexer": "ipython3",
   "version": "3.11.5"
  }
 },
 "nbformat": 4,
 "nbformat_minor": 5
}
